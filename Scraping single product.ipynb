{
 "cells": [
  {
   "cell_type": "markdown",
   "id": "8aa2fc58",
   "metadata": {},
   "source": [
    "# Amazon food reviews for single product"
   ]
  },
  {
   "cell_type": "markdown",
   "id": "52fd977b",
   "metadata": {},
   "source": [
    "Main URL: https://www.amazon.com/s?k=food&i=grocery&rh=n%3A16310101&dc&qid=1661370805&ref=sr_pg_1"
   ]
  },
  {
   "cell_type": "code",
   "execution_count": 60,
   "id": "5adf9c44",
   "metadata": {},
   "outputs": [],
   "source": [
    "from selenium import webdriver\n",
    "from selenium.webdriver.common.by import By\n",
    "from selenium.webdriver.chrome.service import Service\n",
    "from selenium.webdriver.chrome.options import Options\n",
    "from webdriver_manager.chrome import ChromeDriverManager\n",
    "from selenium.webdriver.support.select import Select"
   ]
  },
  {
   "cell_type": "code",
   "execution_count": 61,
   "id": "a3452b5b",
   "metadata": {},
   "outputs": [],
   "source": [
    "from bs4 import BeautifulSoup\n",
    "\n",
    "import time\n",
    "import pandas as pd"
   ]
  },
  {
   "cell_type": "code",
   "execution_count": 62,
   "id": "36bb3768",
   "metadata": {},
   "outputs": [],
   "source": [
    "url = \"https://www.amazon.com/Hormel-Compleats-Stroganoff-Sauce-Flavored/dp/B07BZQYXLW/ref=sxin_14_pa_sp_search_thematic_sspa?content-id=amzn1.sym.f8046617-45af-4f03-8a6f-d237e93c7fe3%3Aamzn1.sym.f8046617-45af-4f03-8a6f-d237e93c7fe3&cv_ct_cx=food&keywords=food&pd_rd_i=B07BZQYXLW&pd_rd_r=311b6112-7388-478c-8d91-82e1aac5ff89&pd_rd_w=RtzzC&pd_rd_wg=dmCJH&pf_rd_p=f8046617-45af-4f03-8a6f-d237e93c7fe3&pf_rd_r=CQZ5VXGSDYMEC1S2YDH0&qid=1661310794&s=grocery&sr=1-2-c10ad9cd-c706-4ebc-bdb8-2e132882e5c7-spons&psc=1&spLa=ZW5jcnlwdGVkUXVhbGlmaWVyPUExU0dKN1U4RlpLM0JIJmVuY3J5cHRlZElkPUEwODg3Mjg3MThKM0hVQ0NPTUJYVCZlbmNyeXB0ZWRBZElkPUEwNTA4OTYzMlkwUFdIUEJFTDgwTCZ3aWRnZXROYW1lPXNwX3NlYXJjaF90aGVtYXRpYyZhY3Rpb249Y2xpY2tSZWRpcmVjdCZkb05vdExvZ0NsaWNrPXRydWU=\""
   ]
  },
  {
   "cell_type": "code",
   "execution_count": 63,
   "id": "915b8572",
   "metadata": {},
   "outputs": [],
   "source": [
    "option =  webdriver.ChromeOptions() \n",
    "option.add_argument(\"--headless\")\n",
    "driver = webdriver.Chrome(service = Service(ChromeDriverManager().install()), options=option)\n",
    "\n",
    "driver.get(url)\n",
    "\n",
    "# dropdown = driver.find_element(By.XPATH, '//*[@id=\"cm-cr-sort-dropdown\"]')\n",
    "# Select(dropdown).select_by_value('recent')\n",
    "\n",
    "soup = BeautifulSoup(driver.page_source, 'lxml')\n",
    "driver.quit()"
   ]
  },
  {
   "cell_type": "code",
   "execution_count": 64,
   "id": "db0e0447",
   "metadata": {},
   "outputs": [
    {
     "data": {
      "text/plain": [
       "'HORMEL COMPLEATS Beef Stroganoff Sauce Microwave Tray, 9 Ounces (Pack of 6)'"
      ]
     },
     "execution_count": 64,
     "metadata": {},
     "output_type": "execute_result"
    }
   ],
   "source": [
    "title = soup.select_one('#productTitle').text.strip(); title"
   ]
  },
  {
   "cell_type": "code",
   "execution_count": 65,
   "id": "e4b99f3d",
   "metadata": {},
   "outputs": [
    {
     "data": {
      "text/plain": [
       "'4.1'"
      ]
     },
     "execution_count": 65,
     "metadata": {},
     "output_type": "execute_result"
    }
   ],
   "source": [
    "stars = soup.find('span', {'data-hook': \"rating-out-of-text\", 'class': \"a-size-medium a-color-base\"}).text.rstrip('out of 5'); stars"
   ]
  },
  {
   "cell_type": "code",
   "execution_count": 66,
   "id": "59a071ce",
   "metadata": {},
   "outputs": [
    {
     "data": {
      "text/plain": [
       "'I got these for my work lunch they do the trick..'"
      ]
     },
     "execution_count": 66,
     "metadata": {},
     "output_type": "execute_result"
    }
   ],
   "source": [
    "#'top-customer-reviews-widget'\n",
    "reviews = soup.find_all('div', {'data-hook': \"review-collapsed\"})\n",
    "sample_reviews = [review.text.strip() for review in reviews]; sample_reviews[5]"
   ]
  }
 ],
 "metadata": {
  "kernelspec": {
   "display_name": "Python 3",
   "language": "python",
   "name": "python3"
  },
  "language_info": {
   "codemirror_mode": {
    "name": "ipython",
    "version": 3
   },
   "file_extension": ".py",
   "mimetype": "text/x-python",
   "name": "python",
   "nbconvert_exporter": "python",
   "pygments_lexer": "ipython3",
   "version": "3.8.8"
  }
 },
 "nbformat": 4,
 "nbformat_minor": 5
}
